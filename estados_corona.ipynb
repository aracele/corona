{
 "cells": [
  {
   "cell_type": "code",
   "execution_count": 1,
   "metadata": {
    "colab": {},
    "colab_type": "code",
    "id": "BzRg3VP14UQS"
   },
   "outputs": [
    {
     "ename": "ModuleNotFoundError",
     "evalue": "No module named 'pandas'",
     "output_type": "error",
     "traceback": [
      "\u001b[0;31m---------------------------------------------------------------------------\u001b[0m",
      "\u001b[0;31mModuleNotFoundError\u001b[0m                       Traceback (most recent call last)",
      "\u001b[0;32m<ipython-input-1-54c8dc2ceda0>\u001b[0m in \u001b[0;36m<module>\u001b[0;34m()\u001b[0m\n\u001b[0;32m----> 1\u001b[0;31m \u001b[0;32mimport\u001b[0m \u001b[0mpandas\u001b[0m \u001b[0;32mas\u001b[0m \u001b[0mpd\u001b[0m\u001b[0;34m\u001b[0m\u001b[0;34m\u001b[0m\u001b[0m\n\u001b[0m\u001b[1;32m      2\u001b[0m \u001b[0;32mimport\u001b[0m \u001b[0mmatplotlib\u001b[0m\u001b[0;34m.\u001b[0m\u001b[0mpyplot\u001b[0m \u001b[0;32mas\u001b[0m \u001b[0mplt\u001b[0m\u001b[0;34m\u001b[0m\u001b[0;34m\u001b[0m\u001b[0m\n\u001b[1;32m      3\u001b[0m \u001b[0;32mimport\u001b[0m \u001b[0mnumpy\u001b[0m \u001b[0;32mas\u001b[0m \u001b[0mnp\u001b[0m\u001b[0;34m\u001b[0m\u001b[0;34m\u001b[0m\u001b[0m\n\u001b[1;32m      4\u001b[0m \u001b[0;32mfrom\u001b[0m \u001b[0mdatetime\u001b[0m \u001b[0;32mimport\u001b[0m \u001b[0mdatetime\u001b[0m\u001b[0;34m\u001b[0m\u001b[0;34m\u001b[0m\u001b[0m\n\u001b[1;32m      5\u001b[0m \u001b[0;32mfrom\u001b[0m \u001b[0mdatetime\u001b[0m \u001b[0;32mimport\u001b[0m \u001b[0mtimedelta\u001b[0m\u001b[0;34m\u001b[0m\u001b[0;34m\u001b[0m\u001b[0m\n",
      "\u001b[0;31mModuleNotFoundError\u001b[0m: No module named 'pandas'"
     ]
    }
   ],
   "source": [
    "import pandas as pd\n",
    "import matplotlib.pyplot as plt\n",
    "import numpy as np\n",
    "from datetime import datetime\n",
    "from datetime import timedelta"
   ]
  },
  {
   "cell_type": "code",
   "execution_count": 0,
   "metadata": {
    "colab": {},
    "colab_type": "code",
    "id": "vhyVBfQ_4clW"
   },
   "outputs": [],
   "source": [
    "# tabela :: wget -r https://raw.githubusercontent.com/wcota/covid19br/master/cases-brazil-states.csv\n",
    "dates = pd.read_csv(\"/content/cases-brazil-states.csv\",header=0,index_col=\"date\")"
   ]
  },
  {
   "cell_type": "code",
   "execution_count": 6,
   "metadata": {
    "colab": {
     "base_uri": "https://localhost:8080/",
     "height": 297
    },
    "colab_type": "code",
    "id": "jI7Mf5tl4oHQ",
    "outputId": "8af427ee-b92c-4401-8a16-08056d962417"
   },
   "outputs": [
    {
     "data": {
      "text/plain": [
       "<matplotlib.axes._subplots.AxesSubplot at 0x7f65f7440358>"
      ]
     },
     "execution_count": 6,
     "metadata": {
      "tags": []
     },
     "output_type": "execute_result"
    },
    {
     "data": {
      "image/png": "[encoded data removed]",
      "text/plain": [
       "<Figure size 432x288 with 1 Axes>"
      ]
     },
     "metadata": {
      "tags": []
     },
     "output_type": "display_data"
    }
   ],
   "source": [
    "estado = dates[dates[\"state\"]==\"SP\"]\n",
    "# for i in enumerate(timebr):\n",
    "#   timebr[timebr.index.values[i[0]]] = datetime.strptime(i[1], \"%Y-%m-%d %H:%M:%S.%f\")\n",
    "estado.totalCases.plot()"
   ]
  },
  {
   "cell_type": "code",
   "execution_count": 19,
   "metadata": {
    "colab": {
     "base_uri": "https://localhost:8080/",
     "height": 35
    },
    "colab_type": "code",
    "id": "6tNtqUFcGXgr",
    "outputId": "5e433426-d32d-4c01-8bf2-514d6d58b4cc"
   },
   "outputs": [
    {
     "data": {
      "text/plain": [
       "int"
      ]
     },
     "execution_count": 19,
     "metadata": {
      "tags": []
     },
     "output_type": "execute_result"
    }
   ],
   "source": [
    "case1 = pd.to_datetime(estado.index[np.where(estado[\"totalCases\"] > 0)][0])\n",
    "(pd.to_datetime(estado.index[3])-case1).days)"
   ]
  },
  {
   "cell_type": "code",
   "execution_count": 0,
   "metadata": {
    "colab": {},
    "colab_type": "code",
    "id": "Wp21aIaFfRsu"
   },
   "outputs": [],
   "source": [
    "# modifica os dados para utilizar no curve fit\n",
    "xtimebr=[]\n",
    "ydatabr=[]\n",
    "dia=[]\n",
    "today=datetime.now().date()\n",
    "estado.index = pd.to_datetime(estado.index)\n",
    "case1 = estado.index[np.where(estado[\"totalCases\"] > 0)][0]\n",
    "# print(today)\n",
    "for ib in enumerate(estado.index):\n",
    "  # somente dias onde o numero de casos confirmados é maior que 0\n",
    "  # para o Brasil\n",
    "  if estado[\"totalCases\"][estado.index[ib[0]]] >0:\n",
    "    # procura os dias..\n",
    "    # print(ib[1])\n",
    "    selday = ((ib[1])-case1).days == np.arange(0,32,1)\n",
    "    # a cada dois dias pegamos o numero de casos e convete o dia para dia inteiro\n",
    "    # dia negativo está no passado.. -2 ==dois dias antes do atual var(today)\n",
    "    if True in selday:\n",
    "      xtimebr.append((ib[1]-case1).days)\n",
    "      ydatabr.append(estado[\"totalCases\"][estado.index[ib[0]]])\n",
    "      dia.append(estado.index[ib[0]])\n",
    "\n",
    "# dados selecionador para fazer o ajsute\n",
    "ydatabr  = np.array(ydatabr)\n",
    "xdatabr = np.array(xtimebr)\n",
    "for i in range(5):\n",
    "  dia.append(dia[-1]+timedelta(days=1))"
   ]
  },
  {
   "cell_type": "code",
   "execution_count": 22,
   "metadata": {
    "colab": {
     "base_uri": "https://localhost:8080/",
     "height": 517
    },
    "colab_type": "code",
    "id": "bEh9aCnIMxiz",
    "outputId": "5536a146-f124-4224-98b3-6d877ee1e7ab"
   },
   "outputs": [
    {
     "data": {
      "text/plain": [
       "[Timestamp('2020-02-25 00:00:00'),\n",
       " Timestamp('2020-02-29 00:00:00'),\n",
       " Timestamp('2020-03-04 00:00:00'),\n",
       " Timestamp('2020-03-05 00:00:00'),\n",
       " Timestamp('2020-03-06 00:00:00'),\n",
       " Timestamp('2020-03-07 00:00:00'),\n",
       " Timestamp('2020-03-08 00:00:00'),\n",
       " Timestamp('2020-03-09 00:00:00'),\n",
       " Timestamp('2020-03-10 00:00:00'),\n",
       " Timestamp('2020-03-11 00:00:00'),\n",
       " Timestamp('2020-03-12 00:00:00'),\n",
       " Timestamp('2020-03-13 00:00:00'),\n",
       " Timestamp('2020-03-14 00:00:00'),\n",
       " Timestamp('2020-03-15 00:00:00'),\n",
       " Timestamp('2020-03-16 00:00:00'),\n",
       " Timestamp('2020-03-17 00:00:00'),\n",
       " Timestamp('2020-03-18 00:00:00'),\n",
       " Timestamp('2020-03-19 00:00:00'),\n",
       " Timestamp('2020-03-20 00:00:00'),\n",
       " Timestamp('2020-03-21 00:00:00'),\n",
       " Timestamp('2020-03-22 00:00:00'),\n",
       " Timestamp('2020-03-23 00:00:00'),\n",
       " Timestamp('2020-03-24 00:00:00'),\n",
       " Timestamp('2020-03-25 00:00:00'),\n",
       " Timestamp('2020-03-26 00:00:00'),\n",
       " Timestamp('2020-03-27 00:00:00'),\n",
       " Timestamp('2020-03-28 00:00:00'),\n",
       " Timestamp('2020-03-29 00:00:00')]"
      ]
     },
     "execution_count": 22,
     "metadata": {
      "tags": []
     },
     "output_type": "execute_result"
    }
   ],
   "source": [
    "dia"
   ]
  },
  {
   "cell_type": "code",
   "execution_count": 0,
   "metadata": {
    "colab": {},
    "colab_type": "code",
    "id": "3mNbAP2S4xKY"
   },
   "outputs": [],
   "source": [
    "# ajuste exponencial com a func, dos dasos xdata e ydata Brasil\n",
    "from scipy.optimize import curve_fit\n",
    "def func(x, a, b, c):\n",
    "    return a * np.exp(b * x) + c\n",
    "\n",
    "# Brasil\n",
    "poptbr, pcovbr = curve_fit(func, xdatabr, ydatabr)\n",
    "perrbr = np.sqrt(np.diag(pcovbr))\n",
    "poptbr"
   ]
  },
  {
   "cell_type": "markdown",
   "metadata": {
    "colab_type": "text",
    "id": "jhrHlVzsdhZb"
   },
   "source": [
    "### model SIR\n",
    "https://scipython.com/book/chapter-8-scipy/additional-examples/the-sir-epidemic-model/"
   ]
  },
  {
   "cell_type": "code",
   "execution_count": 0,
   "metadata": {
    "colab": {},
    "colab_type": "code",
    "id": "8Bx7q2OrIU6D"
   },
   "outputs": [],
   "source": [
    "from scipy.integrate import odeint\n",
    "\n",
    "# Total population, N. \n",
    "N = 1000\n",
    "# Initial number of infected and recovered individuals, I0 and R0.\n",
    "I0, R0 = 1, 0\n",
    "# Everyone else, S0, is susceptible to infection initially.\n",
    "S0 = N - I0 - R0\n",
    "# Contact rate, beta, and mean recovery rate, gamma, (in 1/days).\n",
    "nday = 4.0\n",
    "beta, gamma = 0.2, 1./nday \n",
    "# A grid of time points (in days)\n",
    "t = np.linspace(0, 160, 1600)\n",
    "\n",
    "# The SIR model differential equations.\n",
    "def deriv(y, t, N, beta, gamma):\n",
    "    S, I, R = y\n",
    "    dSdt = -beta * S * I / N\n",
    "    dIdt = beta * S * I / N - gamma * I\n",
    "    dRdt = gamma * I\n",
    "    return dSdt, dIdt, dRdt\n",
    "\n",
    "# Initial conditions vector\n",
    "y0 = S0, I0, R0\n",
    "# Integrate the SIR equations over the time grid, t.\n",
    "ret = odeint(deriv, y0, t, args=(N, beta, gamma))\n",
    "S, I, R = ret.T"
   ]
  },
  {
   "cell_type": "markdown",
   "metadata": {
    "colab_type": "text",
    "id": "j-pidmKJnSdG"
   },
   "source": [
    "Model SIER\n",
    "https://github.com/XuelongSun/Dynamic-Model-of-Infectious-Diseases/blob/master/SIR.ipynb"
   ]
  },
  {
   "cell_type": "code",
   "execution_count": 0,
   "metadata": {
    "colab": {
     "base_uri": "https://localhost:8080/",
     "height": 406
    },
    "colab_type": "code",
    "id": "X7UN4joMflAJ",
    "outputId": "d87b688b-3c4c-41ab-9ea2-1db23e179a27"
   },
   "outputs": [
    {
     "data": {
      "image/png": "[encoded data removed]",
      "text/plain": [
       "<Figure size 720x432 with 1 Axes>"
      ]
     },
     "metadata": {
      "tags": []
     },
     "output_type": "display_data"
    }
   ],
   "source": [
    "fig, ax = plt.subplots(figsize=(10,6))\n",
    "ax.plot(s, c='b', lw=2, label='S')\n",
    "ax.plot(e, c='orange', lw=2, label='E')\n",
    "ax.plot(i, c='r', lw=2, label='I')\n",
    "ax.plot(r, c='g', lw=2, label='R')\n",
    "ax.set_xlabel('Day',fontsize=20)\n",
    "ax.set_ylabel('Infective Ratio', fontsize=20)\n",
    "ax.grid(1)\n",
    "ax.set_xlim(0,50)\n",
    "plt.xticks(fontsize=20)\n",
    "plt.yticks(fontsize=20)\n",
    "plt.legend();"
   ]
  },
  {
   "cell_type": "code",
   "execution_count": 0,
   "metadata": {
    "colab": {},
    "colab_type": "code",
    "id": "Wt02RFzjnNEC"
   },
   "outputs": [],
   "source": [
    "# population\n",
    "N = 1e3\n",
    "# simuation Time / Day\n",
    "T = 160\n",
    "tm = np.linspace(0, T, T)\n",
    "# susceptiable ratio\n",
    "s = np.zeros([T])\n",
    "# exposed ratio\n",
    "e = np.zeros([T])\n",
    "# infective ratio\n",
    "i = np.zeros([T])\n",
    "# remove ratio\n",
    "r = np.zeros([T])\n",
    "\n",
    "# contact rate\n",
    "lamda = 0.3\n",
    "# recover rate\n",
    "gamma = 0.0821\n",
    "# exposed period\n",
    "sigma = 1 / 4\n",
    "\n",
    "# initial infective people\n",
    "i[0] = 32.0 / N\n",
    "s[0] = N / N\n",
    "e[0] = 4.0 / N\n",
    "for t in range(T-1):\n",
    "    s[t + 1] = s[t] - lamda * s[t] * i[t]\n",
    "    e[t + 1] = e[t] + lamda * s[t] * i[t] - sigma * e[t]\n",
    "    i[t + 1] = i[t] + sigma * e[t] - gamma * i[t]\n",
    "    r[t + 1] = r[t] + gamma * i[t]"
   ]
  }
 ],
 "metadata": {
  "colab": {
   "collapsed_sections": [],
   "name": "estados_corona.ipynb",
   "provenance": [],
   "toc_visible": true
  },
  "kernelspec": {
   "display_name": "Python 3",
   "language": "python",
   "name": "python3"
  },
  "language_info": {
   "codemirror_mode": {
    "name": "ipython",
    "version": 3
   },
   "file_extension": ".py",
   "mimetype": "text/x-python",
   "name": "python",
   "nbconvert_exporter": "python",
   "pygments_lexer": "ipython3",
   "version": "3.6.9"
  }
 },
 "nbformat": 4,
 "nbformat_minor": 1
}
