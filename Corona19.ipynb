{
 "cells": [
  {
   "cell_type": "code",
   "execution_count": 4,
   "metadata": {
    "colab": {},
    "colab_type": "code",
    "id": "VGi98NlUPzqm"
   },
   "outputs": [],
   "source": [
    "import pandas as pd\n",
    "# import matplotlib.pyplot as plt\n",
    "import numpy as np\n",
    "from datetime import datetime\n",
    "from datetime import timedelta\n",
    "from scipy.optimize import curve_fit"
   ]
  },
  {
   "cell_type": "code",
   "execution_count": 10,
   "metadata": {},
   "outputs": [
    {
     "ename": "ModuleNotFoundError",
     "evalue": "No module named 'matplolib'",
     "output_type": "error",
     "traceback": [
      "\u001b[0;31m---------------------------------------------------------------------------\u001b[0m",
      "\u001b[0;31mModuleNotFoundError\u001b[0m                       Traceback (most recent call last)",
      "\u001b[0;32m<ipython-input-10-b48832484159>\u001b[0m in \u001b[0;36m<module>\u001b[0;34m()\u001b[0m\n\u001b[0;32m----> 1\u001b[0;31m \u001b[0;32mimport\u001b[0m \u001b[0mmatplolib\u001b[0m\u001b[0;34m.\u001b[0m\u001b[0mpyplot\u001b[0m\u001b[0;34m\u001b[0m\u001b[0;34m\u001b[0m\u001b[0m\n\u001b[0m",
      "\u001b[0;31mModuleNotFoundError\u001b[0m: No module named 'matplolib'"
     ]
    }
   ],
   "source": [
    "import matplolib.pyplot"
   ]
  },
  {
   "cell_type": "code",
   "execution_count": null,
   "metadata": {
    "colab": {},
    "colab_type": "code",
    "id": "DsfzRNjqQE3Q"
   },
   "outputs": [],
   "source": [
    "# https://labs.wesleycota.com/sarscov2/br\n",
    "# http://plataforma.saude.gov.br/novocoronavirus/#COVID-19-brazil\n",
    "# https://covid19br.github.io/index.html\n",
    "# tabela :: wget -r https://raw.githubusercontent.com/wcota/covid19br/master/cases-brazil-states.csv\n",
    "# 412 mil leitos o BRasil. 1,95 por mi hab (https://super.abril.com.br/saude/grafico-a-quantidade-de-leitos-hospitalares-ao-redor-do-mundo/)\n",
    "# wget -r https://s3-us-west-1.amazonaws.com/starschema.covid/JHU_COVID-19.csv\n",
    "\n",
    "# importa os dados usando pandas e trasforma em dataFrame\n",
    "data = pd.read_csv(\"/content/JHU_COVID-19.csv\",header=0)\n",
    "# dates = pd.read_csv(\"/content/cases-brazil-states.csv\",header=0,index_col=\"date\")"
   ]
  },
  {
   "cell_type": "code",
   "execution_count": null,
   "metadata": {
    "colab": {
     "base_uri": "https://localhost:8080/",
     "height": 35
    },
    "colab_type": "code",
    "executionInfo": {
     "elapsed": 634,
     "status": "ok",
     "timestamp": 1585171913804,
     "user": {
      "displayName": "CODE Claudio Machado Paulo",
      "photoUrl": "https://lh3.googleusercontent.com/a-/AOh14Ggh6s3omCX0bQGk4uER0hOeHCwg_7buCeR5OtHK=s64",
      "userId": "09757478742777951377"
     },
     "user_tz": 180
    },
    "id": "d8DSer0_WkOA",
    "outputId": "87bc1d5f-ae4d-47e4-abd0-fc54c5a9ec7d"
   },
   "outputs": [],
   "source": [
    "# Total de casos: 1.128 (18 mortes*) 21 março 2020\n",
    "# Total de casos: 1.546 (25 mortes*) 22 março 2020\n",
    "# Total de casos: 1.891 (34 mortes*) 22 março 2020\n",
    "# Total de casos: 2006 (34 mortes*) 24 março 2020\n",
    "# Total de casos: 2452 (57 mortes*) 25 março 2020\n",
    "cfm = np.array([(18/1128.),(25/1546.), (34/1891.),(46/2201.),(57/2452.)])\n",
    "cfm*100."
   ]
  },
  {
   "cell_type": "code",
   "execution_count": null,
   "metadata": {
    "colab": {},
    "colab_type": "code",
    "id": "DZ25VSLVQ1R8"
   },
   "outputs": [],
   "source": [
    "# seleciona os dados do Brasil\n",
    "br = data[data[\"Country/Region\"] == \"Brazil\"]\n",
    "# seleciona os dados do Argentina\n",
    "ar = data[data[\"Country/Region\"] == \"Argentina\"]\n",
    "# seleciona os dados do Uruguay\n",
    "uy = data[data[\"Country/Region\"] == \"Uruguay\"]\n",
    "# seleciona os dados do Italia\n",
    "ita = data[data[\"Country/Region\"] == \"Italy\"]\n",
    "# seleciona os dados da China\n",
    "china = data[data[\"Country/Region\"] == \"China\"]"
   ]
  },
  {
   "cell_type": "code",
   "execution_count": null,
   "metadata": {
    "colab": {
     "base_uri": "https://localhost:8080/",
     "height": 35
    },
    "colab_type": "code",
    "executionInfo": {
     "elapsed": 5533,
     "status": "ok",
     "timestamp": 1585153759157,
     "user": {
      "displayName": "CODE Claudio Machado Paulo",
      "photoUrl": "https://lh3.googleusercontent.com/a-/AOh14Ggh6s3omCX0bQGk4uER0hOeHCwg_7buCeR5OtHK=s64",
      "userId": "09757478742777951377"
     },
     "user_tz": 180
    },
    "id": "PNkr4cu65uFg",
    "outputId": "c24bb94f-c384-43b6-c370-ea0c36f4db1f"
   },
   "outputs": [],
   "source": [
    "china[\"Case_Type\"].unique()"
   ]
  },
  {
   "cell_type": "code",
   "execution_count": null,
   "metadata": {
    "colab": {
     "base_uri": "https://localhost:8080/",
     "height": 244
    },
    "colab_type": "code",
    "executionInfo": {
     "elapsed": 692,
     "status": "error",
     "timestamp": 1585172051729,
     "user": {
      "displayName": "CODE Claudio Machado Paulo",
      "photoUrl": "https://lh3.googleusercontent.com/a-/AOh14Ggh6s3omCX0bQGk4uER0hOeHCwg_7buCeR5OtHK=s64",
      "userId": "09757478742777951377"
     },
     "user_tz": 180
    },
    "id": "W8HW6FtwE1UP",
    "outputId": "41b3dcf0-235c-4872-8939-67d4af78705a"
   },
   "outputs": [],
   "source": [
    "china.Date = pd.to_datetime(china.Date)\n",
    "confir = china[(china[\"Case_Type\"] == \"Confirmed\")]\n",
    "mortos = china[(china[\"Case_Type\"] == \"Deaths\")]\n",
    "recu = china[(china[\"Case_Type\"] == \"Recovered\")]\n",
    "pl = confir.groupby(\"Date\").sum()\n",
    "mt = mortos.groupby(\"Date\").sum()\n",
    "rp = recu.groupby(\"Date\").sum()\n",
    "# plt.plot(mt[\"Cases\"].div(pl[\"Cases\"]).mul(100.))\n",
    "im = pl[\"Cases\"].max()\n",
    "plt.plot(mt[\"Cases\"]/im,label=\"D\")\n",
    "plt.plot(pl[\"Cases\"]/im,label=\"I\")\n",
    "plt.plot(rp[\"Cases\"]/im,label=\"R\")\n",
    "plt.legend()\n",
    "# china[\"Case_Type\"].unique()"
   ]
  },
  {
   "cell_type": "code",
   "execution_count": null,
   "metadata": {
    "colab": {
     "base_uri": "https://localhost:8080/",
     "height": 216
    },
    "colab_type": "code",
    "executionInfo": {
     "elapsed": 3122,
     "status": "ok",
     "timestamp": 1585153774522,
     "user": {
      "displayName": "CODE Claudio Machado Paulo",
      "photoUrl": "https://lh3.googleusercontent.com/a-/AOh14Ggh6s3omCX0bQGk4uER0hOeHCwg_7buCeR5OtHK=s64",
      "userId": "09757478742777951377"
     },
     "user_tz": 180
    },
    "id": "OQOMkTsmRH3V",
    "outputId": "57cb2f76-e672-4f35-9a43-2bfa6420d770"
   },
   "outputs": [],
   "source": [
    "# seleciona somente casos confirmados no Brasil\n",
    "confirmadosbr = br[br[\"Case_Type\"] == \"Confirmed\"]\n",
    "# ativos = br[br[\"Case_Type\"] == \"Active\"]\n",
    "timebr = confirmadosbr[\"Date\"]\n",
    "# transforma para datatime\n",
    "for i in enumerate(timebr):\n",
    "  timebr[timebr.index.values[i[0]]] = datetime.strptime(i[1], \"%Y-%m-%d %H:%M:%S.%f\")"
   ]
  },
  {
   "cell_type": "code",
   "execution_count": null,
   "metadata": {
    "colab": {
     "base_uri": "https://localhost:8080/",
     "height": 231
    },
    "colab_type": "code",
    "executionInfo": {
     "elapsed": 928,
     "status": "ok",
     "timestamp": 1585154548849,
     "user": {
      "displayName": "CODE Claudio Machado Paulo",
      "photoUrl": "https://lh3.googleusercontent.com/a-/AOh14Ggh6s3omCX0bQGk4uER0hOeHCwg_7buCeR5OtHK=s64",
      "userId": "09757478742777951377"
     },
     "user_tz": 180
    },
    "id": "2-j3eKTWiLHS",
    "outputId": "747ee8c6-fbab-4b9b-b4f9-6b7b3db48ccb"
   },
   "outputs": [],
   "source": [
    "# confirmadosbr[\"Date\"]\n",
    "cond_idx = confirmadosbr.index[np.where(confirmadosbr[\"Cases\"]>0)]\n",
    "\n",
    "confirmadosbr[\"Date\"][cond_idx[0]]\n",
    "# confirmadosbr.index\n",
    "timebr"
   ]
  },
  {
   "cell_type": "code",
   "execution_count": null,
   "metadata": {
    "colab": {},
    "colab_type": "code",
    "id": "Wp21aIaFfRsu"
   },
   "outputs": [],
   "source": [
    "# modifica os dados para utilizar no curve fit\n",
    "xtime=[]\n",
    "ydata=[]\n",
    "xtimebr=[]\n",
    "ydatabr=[]\n",
    "dia=[]\n",
    "today=datetime.now().date()\n",
    "################################### quantidade de casos #####\n",
    "cond_idx = confirmadosbr.index[np.where(confirmadosbr[\"Cases\"]>0)]\n",
    "case1 = pd.to_datetime(confirmadosbr[\"Date\"][cond_idx[0]])\n",
    "########################################\n",
    "for ib in enumerate(timebr):\n",
    "  # somente dias onde o numero de casos confirmados é maior que 0\n",
    "  # para o Brasil\n",
    "  if confirmadosbr[\"Cases\"][confirmadosbr.index[ib[0]]] > 0:\n",
    "    # procura os dias..\n",
    "    # print(ib[1])\n",
    "    selday = (ib[1]-case1).days == np.arange(0,32,2)\n",
    "    # a cada dois dias pegamos o numero de casos e convete o dia para dia inteiro\n",
    "    if True in selday:\n",
    "      xtimebr.append((ib[1]-case1).days)\n",
    "      ydatabr.append(confirmadosbr[\"Cases\"][confirmadosbr.index[ib[0]]])\n",
    "      dia.append(timebr[confirmadosbr.index[ib[0]]])\n",
    "\n",
    "# dados selecionador para fazer o ajsute\n",
    "ydatabr  = np.array(sorted(ydatabr))\n",
    "xdatabr = np.array(sorted(xtimebr))\n",
    "for i in range(5):\n",
    "  dia.append(dia[-1]+timedelta(days=1))"
   ]
  },
  {
   "cell_type": "code",
   "execution_count": null,
   "metadata": {
    "colab": {
     "base_uri": "https://localhost:8080/",
     "height": 53
    },
    "colab_type": "code",
    "executionInfo": {
     "elapsed": 2710,
     "status": "ok",
     "timestamp": 1585154946797,
     "user": {
      "displayName": "CODE Claudio Machado Paulo",
      "photoUrl": "https://lh3.googleusercontent.com/a-/AOh14Ggh6s3omCX0bQGk4uER0hOeHCwg_7buCeR5OtHK=s64",
      "userId": "09757478742777951377"
     },
     "user_tz": 180
    },
    "id": "BPHsIIrLrhcF",
    "outputId": "db7ed6ef-cf79-4b28-af51-a050dac56cbd"
   },
   "outputs": [],
   "source": [
    "# dia[int(xdatabr[-1])]\n",
    "xdatabr\n",
    "ydatabr\n"
   ]
  },
  {
   "cell_type": "code",
   "execution_count": null,
   "metadata": {
    "colab": {
     "base_uri": "https://localhost:8080/",
     "height": 35
    },
    "colab_type": "code",
    "executionInfo": {
     "elapsed": 3507,
     "status": "ok",
     "timestamp": 1585155116314,
     "user": {
      "displayName": "CODE Claudio Machado Paulo",
      "photoUrl": "https://lh3.googleusercontent.com/a-/AOh14Ggh6s3omCX0bQGk4uER0hOeHCwg_7buCeR5OtHK=s64",
      "userId": "09757478742777951377"
     },
     "user_tz": 180
    },
    "id": "GWp83qWGd_L8",
    "outputId": "952cb389-55ac-487c-9146-2e9717a4f7ec"
   },
   "outputs": [],
   "source": [
    "# ajuste exponencial com a func, dos dasos xdata e ydata Brasil\n",
    "from scipy.optimize import curve_fit\n",
    "def func(x, a, b, c):\n",
    "    return a * np.exp(b * x) + c\n",
    "# popt2, pcov2 = curve_fit(func, xdata, ydata)\n",
    "# erro no s coeficeintes\n",
    "# perr2 = np.sqrt(np.diag(pcov2))\n",
    "# Brasil\n",
    "poptbr, pcovbr = curve_fit(func, xdatabr, ydatabr)\n",
    "perrbr = np.sqrt(np.diag(pcovbr))\n",
    "poptbr"
   ]
  },
  {
   "cell_type": "markdown",
   "metadata": {
    "colab_type": "text",
    "id": "jhrHlVzsdhZb"
   },
   "source": [
    "### model SIR\n",
    "https://scipython.com/book/chapter-8-scipy/additional-examples/the-sir-epidemic-model/"
   ]
  },
  {
   "cell_type": "code",
   "execution_count": null,
   "metadata": {
    "colab": {},
    "colab_type": "code",
    "id": "8Bx7q2OrIU6D"
   },
   "outputs": [],
   "source": [
    "from scipy.integrate import odeint\n",
    "\n",
    "# Total population, N. \n",
    "N = 1000\n",
    "# Initial number of infected and recovered individuals, I0 and R0.\n",
    "I0, R0 = 1, 0\n",
    "# Everyone else, S0, is susceptible to infection initially.\n",
    "S0 = N - I0 - R0\n",
    "# Contact rate, beta, and mean recovery rate, gamma, (in 1/days).\n",
    "nday = 4.0\n",
    "beta, gamma = 0.2, 1./nday \n",
    "# A grid of time points (in days)\n",
    "t = np.linspace(0, 160, 1600)\n",
    "\n",
    "# The SIR model differential equations.\n",
    "def deriv(y, t, N, beta, gamma):\n",
    "    S, I, R = y\n",
    "    dSdt = -beta * S * I / N\n",
    "    dIdt = beta * S * I / N - gamma * I\n",
    "    dRdt = gamma * I\n",
    "    return dSdt, dIdt, dRdt\n",
    "\n",
    "# Initial conditions vector\n",
    "y0 = S0, I0, R0\n",
    "# Integrate the SIR equations over the time grid, t.\n",
    "ret = odeint(deriv, y0, t, args=(N, beta, gamma))\n",
    "S, I, R = ret.T"
   ]
  },
  {
   "cell_type": "markdown",
   "metadata": {
    "colab_type": "text",
    "id": "j-pidmKJnSdG"
   },
   "source": [
    "Model SIER\n",
    "https://github.com/XuelongSun/Dynamic-Model-of-Infectious-Diseases/blob/master/SIR.ipynb"
   ]
  },
  {
   "cell_type": "code",
   "execution_count": null,
   "metadata": {
    "colab": {},
    "colab_type": "code",
    "id": "Wt02RFzjnNEC"
   },
   "outputs": [],
   "source": [
    "# MODEL S I E R\n",
    "# population \n",
    "N = 1e3\n",
    "# simuation Time / Day\n",
    "T = 160\n",
    "tm = np.linspace(0, T, T)\n",
    "# susceptiable ratio\n",
    "s = np.zeros([T])\n",
    "# exposed ratio\n",
    "e = np.zeros([T])\n",
    "# infective ratio\n",
    "i = np.zeros([T])\n",
    "# remove ratio\n",
    "r = np.zeros([T])\n",
    "\n",
    "# contact rate\n",
    "lamda = 0.3\n",
    "lamda = poptbr[1]\n",
    "# recover rate\n",
    "gamma = 0.0821\n",
    "# exposed period\n",
    "sigma = 1 / 4\n",
    "\n",
    "# initial infective people\n",
    "i[0] = 1.0 / N\n",
    "s[0] = N / N - i[0]\n",
    "e[0] = 4.0 / N\n",
    "for t in range(T-1):\n",
    "    s[t + 1] = s[t] - lamda * s[t] * i[t]\n",
    "    e[t + 1] = e[t] + lamda * s[t] * i[t] - sigma * e[t]\n",
    "    i[t + 1] = i[t] + sigma * e[t] - gamma * i[t]\n",
    "    r[t + 1] = r[t] + gamma * i[t]"
   ]
  },
  {
   "cell_type": "code",
   "execution_count": null,
   "metadata": {
    "colab": {
     "base_uri": "https://localhost:8080/",
     "height": 397
    },
    "colab_type": "code",
    "executionInfo": {
     "elapsed": 796,
     "status": "ok",
     "timestamp": 1585157879113,
     "user": {
      "displayName": "CODE Claudio Machado Paulo",
      "photoUrl": "https://lh3.googleusercontent.com/a-/AOh14Ggh6s3omCX0bQGk4uER0hOeHCwg_7buCeR5OtHK=s64",
      "userId": "09757478742777951377"
     },
     "user_tz": 180
    },
    "id": "X7UN4joMflAJ",
    "outputId": "01cfe2aa-89a6-4c2d-ee25-89b0009143f9"
   },
   "outputs": [],
   "source": [
    "diasimu=[]\n",
    "for iy in range(160):\n",
    "  diasimu.append(case1.date()+timedelta(days=iy))\n",
    "\n",
    "fig, ax = plt.subplots(figsize=(10,6))\n",
    "# ax.plot(s, c='b', lw=2, label='S')\n",
    "ax.plot(diasimu,e[:len(diasimu)], c='orange', lw=2, label='E')\n",
    "ax.plot(diasimu,i[:len(diasimu)], c='r', lw=2, label='I')\n",
    "# ax.plot(r, c='g', lw=2, label='R')\n",
    "ax.set_xlabel('Dia',fontsize=20)\n",
    "ax.set_ylabel('rzao da pop. inctadada', fontsize=20)\n",
    "ax.grid(1)\n",
    "# ax.set_xlim(0,50)\n",
    "ax.set_xlim(today,today+timedelta(days=50))\n",
    "# ax.set_xlim(today,\"2020-04-30\")\n",
    "plt.xticks(fontsize=10)\n",
    "plt.yticks(fontsize=20)\n",
    "plt.legend();"
   ]
  },
  {
   "cell_type": "code",
   "execution_count": null,
   "metadata": {
    "colab": {
     "base_uri": "https://localhost:8080/",
     "height": 71
    },
    "colab_type": "code",
    "executionInfo": {
     "elapsed": 884,
     "status": "ok",
     "timestamp": 1585156278672,
     "user": {
      "displayName": "CODE Claudio Machado Paulo",
      "photoUrl": "https://lh3.googleusercontent.com/a-/AOh14Ggh6s3omCX0bQGk4uER0hOeHCwg_7buCeR5OtHK=s64",
      "userId": "09757478742777951377"
     },
     "user_tz": 180
    },
    "id": "6YwEjeLbLefU",
    "outputId": "5485f0e5-799d-450e-84e4-eac34e8c768e"
   },
   "outputs": [],
   "source": [
    "# Brasil utlizando a funçao para obeter a previsao\n",
    "# for i in range(5):\n",
    "#   dia.append(dia[-1]+timedelta(days=1))\n",
    "# dados do fit no ajuste\n",
    "brdata = func(xdatabr, *poptbr)\n",
    "# prediacao 5 dias\n",
    "prbrxdata = np.arange(xdatabr.max(),xdatabr.max()+6)\n",
    "prbrdata = func(prbrxdata, *poptbr)\n",
    "supEprbr = func(prbrxdata, *(poptbr+perrbr))\n",
    "infEprbr = func(prbrxdata, *(poptbr-perrbr))\n",
    "\n",
    "dprevisto = (today-case1.date()).days\n",
    "su = func(dprevisto, *(poptbr+perrbr))\n",
    "inf= func(dprevisto, *(poptbr-perrbr))\n",
    "vabr = (su-inf)/2\n",
    "hojebr = (func(dprevisto, *poptbr))\n",
    "# dia_anterior = (func(-1, *poptbr))\n",
    "print(\"hoje \"+str(today)+\" o numero de casos no Brasil será :: \",str(inf)[:7],\" no melhor dos casos\")\n",
    "print(\"hoje \"+str(today)+\" o numero de casos no Brasil será :: \",str(su)[:7],\" no pior dos casos\")\n",
    "print(\"hoje \"+str(today)+\" o numero de casos no Brasil esperado será :: \",str(hojebr)[:7])"
   ]
  },
  {
   "cell_type": "code",
   "execution_count": null,
   "metadata": {
    "colab": {
     "base_uri": "https://localhost:8080/",
     "height": 35
    },
    "colab_type": "code",
    "executionInfo": {
     "elapsed": 639,
     "status": "ok",
     "timestamp": 1585156261487,
     "user": {
      "displayName": "CODE Claudio Machado Paulo",
      "photoUrl": "https://lh3.googleusercontent.com/a-/AOh14Ggh6s3omCX0bQGk4uER0hOeHCwg_7buCeR5OtHK=s64",
      "userId": "09757478742777951377"
     },
     "user_tz": 180
    },
    "id": "N1YZwTNkrCa8",
    "outputId": "81ed694f-b125-4770-cef3-0303a806b636"
   },
   "outputs": [],
   "source": [
    "today\n",
    "case1.date()"
   ]
  },
  {
   "cell_type": "code",
   "execution_count": null,
   "metadata": {
    "colab": {
     "base_uri": "https://localhost:8080/",
     "height": 513
    },
    "colab_type": "code",
    "executionInfo": {
     "elapsed": 1066,
     "status": "ok",
     "timestamp": 1585156438254,
     "user": {
      "displayName": "CODE Claudio Machado Paulo",
      "photoUrl": "https://lh3.googleusercontent.com/a-/AOh14Ggh6s3omCX0bQGk4uER0hOeHCwg_7buCeR5OtHK=s64",
      "userId": "09757478742777951377"
     },
     "user_tz": 180
    },
    "id": "8xfu2vT-rJeQ",
    "outputId": "43e8143d-a4b2-49bb-f807-172068260308"
   },
   "outputs": [],
   "source": [
    "# Brasil grafico\n",
    "fig = plt.figure(figsize=[10,8])\n",
    "ax2 = plt.subplot()\n",
    "\n",
    "ax2.plot(dia[:len(ydatabr)],ydatabr,\"k*\",label=\"confirmados 2dias\")\n",
    "ax2.plot(dia[:len(brdata)],brdata,\"r+-\",label=\"fit 2dias\")\n",
    "ax2.plot(dia[len(ydatabr)-1:],prbrdata,\"b+-\",label=\"previsao para 5 dias\")\n",
    "ax2.plot(timebr,confirmadosbr[\"Cases\"],\"k--\",label=\"confirmados Brasil\")\n",
    "# # ax2.plot(xdatabr,brdata,\"r+-\",label=\"fit 2dias\")\n",
    "# ax2.plot(prbrxdata,prbrdata,\"b+-\",label=\"previsao para 5 dias\")\n",
    "# ax2.plot(pr2xdata,supEprbr,\"gray\",lw=0.8,label=\"incerteza da previsao\")\n",
    "# ax2.plot(pr2xdata,infEprbr,\"gray\",lw=0.8)\n",
    "# ax2.text(-8,hojebr,\"previsão de casos dia \")\n",
    "# ax2.text(-8,hojebr-150,str(datetime.now().date())+\" \"+str(hojebr)[:7])\n",
    "# # ax2.text(-5,hojebr-100,\"variaçao de \"+str(vabr)[:7])\n",
    "ax2.text(\"2020-03-10\",hojebr,\"previsão de casos dia \")\n",
    "ax2.text(\"2020-03-10\",hojebr-300,str(datetime.now().date())+\" \"+str(hojebr)[:7])\n",
    "# ax2.plot(timebr[timebr.index[-1]],ultimodia,\"*\")\n",
    "ax2.axvline(today,ls=\"dotted\",lw=1.8)\n",
    "\n",
    "ax2.set_title(\"CORONA virus Brasil update \"+br[\"Date\"][br.index[-1]])\n",
    "ax2.set_xlabel(\"dias onde 0 é dia atual\")\n",
    "ax2.set_ylabel(\"numero de casos confirmados\")\n",
    "# ax2.set_xlim(-25,) #; ax1.set_ylim(0,2500)\n",
    "# ax2.set_xlim(\"2020-03-01\",datetime.now().date()+timedelta(days=5))\n",
    "ax2.legend()\n",
    "ax2.grid()\n",
    "plt.show()"
   ]
  },
  {
   "cell_type": "code",
   "execution_count": null,
   "metadata": {
    "colab": {
     "base_uri": "https://localhost:8080/",
     "height": 487
    },
    "colab_type": "code",
    "executionInfo": {
     "elapsed": 1035,
     "status": "ok",
     "timestamp": 1585156461585,
     "user": {
      "displayName": "CODE Claudio Machado Paulo",
      "photoUrl": "https://lh3.googleusercontent.com/a-/AOh14Ggh6s3omCX0bQGk4uER0hOeHCwg_7buCeR5OtHK=s64",
      "userId": "09757478742777951377"
     },
     "user_tz": 180
    },
    "id": "rBlRF5BqAyUM",
    "outputId": "58bbedd3-09e0-4b9d-d0de-b4b2c3b3e01a"
   },
   "outputs": [],
   "source": [
    "fig = plt.figure(figsize=[10,8])\n",
    "plt.plot(timebr,confirmadosbr[\"Cases\"],\"k\",label=\"numero de casos registrados\")\n",
    "plt.plot(dia[-len(prbrdata):],prbrdata,\"b+-\",label=\"previsao para 5 dias\")\n",
    "plt.plot(dia[:-5],brdata,\"r\",label=\"ajuste expo 2dias\")\n",
    "plt.xlim(\"2020-03-01\",datetime.now().date())\n",
    "plt.ylim(0,3000)\n",
    "plt.legend(loc=2)\n",
    "\n",
    "plt.grid()\n",
    "plt.show()"
   ]
  },
  {
   "cell_type": "code",
   "execution_count": null,
   "metadata": {
    "colab": {
     "base_uri": "https://localhost:8080/",
     "height": 513
    },
    "colab_type": "code",
    "executionInfo": {
     "elapsed": 1693,
     "status": "ok",
     "timestamp": 1585000997086,
     "user": {
      "displayName": "CODE Claudio Machado Paulo",
      "photoUrl": "https://lh3.googleusercontent.com/a-/AOh14Ggh6s3omCX0bQGk4uER0hOeHCwg_7buCeR5OtHK=s64",
      "userId": "09757478742777951377"
     },
     "user_tz": 180
    },
    "id": "fR0E4BoHSfkI",
    "outputId": "92650194-a179-45e3-bf32-d2b08517860b"
   },
   "outputs": [],
   "source": [
    "fig = plt.figure(figsize=[10,8])\n",
    "ax1 = plt.subplot(2,1,1)\n",
    "ax1.plot(xdata,ydata,\"k--\",label=\"confirmados 2dias\")\n",
    "# ax1.plot(xdata,ddata,\"r+-\",label=\"fit 2dias\")\n",
    "ax1.plot(pr2xdata,pr2data,\"b+-\",label=\"previsao para 5 dias\")\n",
    "# ax1.plot(pr2xdata,supEpr,\"gray\",lw=0.8,label=\"incerteza da previsao\")\n",
    "# ax1.plot(pr2xdata,infEpr,\"gray\",lw=0.8)\n",
    "ax1.text(-5,hoje2,\"previsão hoje \"+str(hoje2)[:7])\n",
    "ax1.text(-5,hoje2-5000,\"variaçao de \"+str(va)[:7])\n",
    "ax2 = plt.subplot(2,1,2)\n",
    "ax2.plot(xdatabr,ydatabr,\"k--\",label=\"confirmados 2dias\")\n",
    "# ax2.plot(xdatabr,brdata,\"r+-\",label=\"fit 2dias\")\n",
    "ax2.plot(prbrxdata,prbrdata,\"b+-\",label=\"previsao para 5 dias\")\n",
    "# ax2.plot(pr2xdata,supEpr,\"gray\",lw=0.8,label=\"incerteza da previsao\")\n",
    "# ax2.plot(pr2xdata,infEpr,\"gray\",lw=0.8)\n",
    "ax2.text(-5,hojebr,\"previsão hoje \"+str(hojebr)[:7])\n",
    "ax2.text(-5,hojebr-200,\"variaçao de \"+str(vabr)[:7])\n",
    "\n",
    "ax1.set_title(\"CORONA virus Italia update \"+ita[\"Date\"][ita.index[-1]])\n",
    "ax2.set_title(\"CORONA virus Brasil update \"+br[\"Date\"][br.index[-1]])\n",
    "ax2.set_xlabel(\"dias onde 0 é dia atual\")\n",
    "ax1.set_ylabel(\"numero de casos confirmados\")\n",
    "ax2.set_ylabel(\"numero de casos confirmados\")\n",
    "ax1.set_xlim(-10,) #; ax1.set_ylim(0,2500)\n",
    "ax2.set_xlim(-10,) #; ax1.set_ylim(0,2500)\n",
    "ax1.legend()\n",
    "ax2.legend()\n",
    "ax1.grid()\n",
    "ax2.grid()\n",
    "plt.show()"
   ]
  },
  {
   "cell_type": "code",
   "execution_count": null,
   "metadata": {
    "colab": {
     "base_uri": "https://localhost:8080/",
     "height": 513
    },
    "colab_type": "code",
    "executionInfo": {
     "elapsed": 1905,
     "status": "ok",
     "timestamp": 1585001115962,
     "user": {
      "displayName": "CODE Claudio Machado Paulo",
      "photoUrl": "https://lh3.googleusercontent.com/a-/AOh14Ggh6s3omCX0bQGk4uER0hOeHCwg_7buCeR5OtHK=s64",
      "userId": "09757478742777951377"
     },
     "user_tz": 180
    },
    "id": "QLZPu_N0XtT5",
    "outputId": "0567ce14-ec03-4779-fec5-64a5b4b8904f"
   },
   "outputs": [],
   "source": [
    "fig = plt.figure(figsize=[10,8])\n",
    "ax1 = plt.subplot()\n",
    "ax1.plot(xdata,np.array(ydata)*0.3,\"r--\",label=\"confirmados*0.3 2dias Italia\")\n",
    "ax1.plot(pr2xdata,np.array(pr2data)*0.3,\"b+-\",label=\"previsao para 5 dias Italia\")\n",
    "\n",
    "ax1.plot(np.array(xdatabr)-6,ydatabr,\"k--\",label=\"confirmados 2dias Brasil\")\n",
    "ax1.plot(np.array(prbrxdata)-6,prbrdata,\"b+-\",label=\"previsao para 5 dias Brasil\")\n",
    "\n",
    "\n",
    "ax1.set_title(\"CORONA virus Italia e Brasil update \"+ita[\"Date\"][ita.index[-1]])\n",
    "ax1.set_xlabel(\"dias onde 0 é dia atual\")\n",
    "\n",
    "ax1.set_ylabel(\"numero de casos confirmados\")\n",
    "\n",
    "ax1.set_xlim(-35,) #; ax1.set_ylim(0,1000)\n",
    "\n",
    "ax1.legend()\n",
    "\n",
    "ax1.grid()\n",
    "\n",
    "plt.show()"
   ]
  },
  {
   "cell_type": "code",
   "execution_count": null,
   "metadata": {
    "colab": {},
    "colab_type": "code",
    "id": "KtHEfYMo7YXt"
   },
   "outputs": [],
   "source": []
  }
 ],
 "metadata": {
  "colab": {
   "authorship_tag": "ABX9TyNatj/s/mUXk62HRXXkdunh",
   "collapsed_sections": [],
   "name": "Corona19",
   "provenance": [],
   "toc_visible": true
  },
  "kernelspec": {
   "display_name": "Python 3",
   "language": "python",
   "name": "python3"
  },
  "language_info": {
   "codemirror_mode": {
    "name": "ipython",
    "version": 3
   },
   "file_extension": ".py",
   "mimetype": "text/x-python",
   "name": "python",
   "nbconvert_exporter": "python",
   "pygments_lexer": "ipython3",
   "version": "3.6.9"
  }
 },
 "nbformat": 4,
 "nbformat_minor": 1
}
